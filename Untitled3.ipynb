{
 "cells": [
  {
   "cell_type": "code",
   "execution_count": 1,
   "id": "8c4a328c",
   "metadata": {},
   "outputs": [],
   "source": [
    "import pandas as pd\n",
    "from sklearn.model_selection import train_test_split\n",
    "from sklearn.linear_model import LinearRegression\n",
    "from sklearn.metrics import mean_squared_error, r2_score\n",
    "import matplotlib.pyplot as plt"
   ]
  },
  {
   "cell_type": "code",
   "execution_count": 2,
   "id": "6bd493c8",
   "metadata": {},
   "outputs": [],
   "source": [
    "df = pd.read_excel('C:/Users/stagiaireprodaad/OneDrive - SAINTE LUCIE/Bureau/docs/Classeur2.xlsx', sheet_name='Feuil2')"
   ]
  },
  {
   "cell_type": "code",
   "execution_count": 3,
   "id": "8b7bff22",
   "metadata": {},
   "outputs": [
    {
     "name": "stdout",
     "output_type": "stream",
     "text": [
      "    93336    166  150.5   630  1200  1670  150379.99999999997  \\\n",
      "0  255746  149.5  150.5   870   600   880       335343.333333   \n",
      "1   55560  144.0  129.0  1020   460  2330       133060.333333   \n",
      "2  147504  113.0  287.0  1010   380  1410       109894.333333   \n",
      "3       0    0.0    0.0     0     0     0            0.000000   \n",
      "4   55752  142.0  151.0  1000   450   940        90115.000000   \n",
      "\n",
      "   0.6206676419736669  Unnamed: 8  106.6697142857143  0.6425886402753874  \\\n",
      "0            0.762639         NaN         103.840667            0.694586   \n",
      "1            0.417555         NaN          52.744615            0.366282   \n",
      "2            1.342235         NaN         116.949231            1.034949   \n",
      "3            0.000000         NaN           0.000000            0.000000   \n",
      "4            0.618676         NaN          92.920000            0.654366   \n",
      "\n",
      "   0.06325301204819277  0.12048192771084337  0.1676706827309237  \\\n",
      "0             0.096990             0.066890            0.098105   \n",
      "1             0.118056             0.053241            0.269676   \n",
      "2             0.148968             0.056047            0.207965   \n",
      "3             0.000000             0.000000            0.000000   \n",
      "4             0.117371             0.052817            0.110329   \n",
      "\n",
      "   620.172757475083     4  \n",
      "0       1699.308970  15.0  \n",
      "1        430.697674  17.0  \n",
      "2        513.951220  48.0  \n",
      "3          0.000000  49.0  \n",
      "4        369.218543  12.0  \n"
     ]
    }
   ],
   "source": [
    "print(df.head())"
   ]
  },
  {
   "cell_type": "code",
   "execution_count": 4,
   "id": "06a522e4",
   "metadata": {},
   "outputs": [],
   "source": [
    "df = pd.read_excel('C:/Users/stagiaireprodaad/OneDrive - SAINTE LUCIE/Bureau/docs/Classeur2.xlsx', sheet_name='Feuil2')"
   ]
  },
  {
   "cell_type": "code",
   "execution_count": 5,
   "id": "1c324226",
   "metadata": {},
   "outputs": [
    {
     "name": "stdout",
     "output_type": "stream",
     "text": [
      "   QTE FAB     TO     MO  AMP01  AMP02  AM001       OBJECTIF  %OBJECTIF  \\\n",
      "0    93336  166.0  150.5    630   1200   1670  150380.000000   0.620668   \n",
      "1   255746  149.5  150.5    870    600    880  335343.333333   0.762639   \n",
      "2    55560  144.0  129.0   1020    460   2330  133060.333333   0.417555   \n",
      "3   147504  113.0  287.0   1010    380   1410  109894.333333   1.342235   \n",
      "4        0    0.0    0.0      0      0      0       0.000000   0.000000   \n",
      "\n",
      "   CAD THEO       TPROD      %TRS  %REGLAGE  %NETTOYAGE    %PANNE  \\\n",
      "0       NaN  106.669714  0.642589  0.063253    0.120482  0.167671   \n",
      "1       NaN  103.840667  0.694586  0.096990    0.066890  0.098105   \n",
      "2       NaN   52.744615  0.366282  0.118056    0.053241  0.269676   \n",
      "3       NaN  116.949231  1.034949  0.148968    0.056047  0.207965   \n",
      "4       NaN    0.000000  0.000000  0.000000    0.000000  0.000000   \n",
      "\n",
      "   PRODUCTIVITE  Ligne  \n",
      "0    620.172757    4.0  \n",
      "1   1699.308970   15.0  \n",
      "2    430.697674   17.0  \n",
      "3    513.951220   48.0  \n",
      "4      0.000000   49.0  \n"
     ]
    }
   ],
   "source": [
    "print(df.head())"
   ]
  },
  {
   "cell_type": "code",
   "execution_count": 6,
   "id": "ccab5a2d",
   "metadata": {},
   "outputs": [
    {
     "name": "stdout",
     "output_type": "stream",
     "text": [
      "QTE FAB          0\n",
      "TO               0\n",
      "MO               0\n",
      "AMP01            0\n",
      "AMP02            0\n",
      "AM001            0\n",
      "OBJECTIF         0\n",
      "%OBJECTIF        0\n",
      "CAD THEO        28\n",
      "TPROD            0\n",
      "%TRS             0\n",
      "%REGLAGE         0\n",
      "%NETTOYAGE       0\n",
      "%PANNE           0\n",
      "PRODUCTIVITE     0\n",
      "Ligne            4\n",
      "dtype: int64\n"
     ]
    }
   ],
   "source": [
    "print(df.isnull().sum())"
   ]
  },
  {
   "cell_type": "code",
   "execution_count": 7,
   "id": "2c05e527",
   "metadata": {},
   "outputs": [],
   "source": [
    "features = ['QTE FAB', 'TO', 'MO', 'AMP01', 'AMP02', 'AM001']"
   ]
  },
  {
   "cell_type": "code",
   "execution_count": 8,
   "id": "81946ba1",
   "metadata": {},
   "outputs": [],
   "source": [
    "X = df[features]"
   ]
  },
  {
   "cell_type": "code",
   "execution_count": 9,
   "id": "d2aed303",
   "metadata": {},
   "outputs": [],
   "source": [
    "y = df['%TRS']"
   ]
  },
  {
   "cell_type": "code",
   "execution_count": 10,
   "id": "02735347",
   "metadata": {},
   "outputs": [],
   "source": [
    "X_train, X_test, y_train, y_test = train_test_split(X, y, test_size=0.2, random_state=42)"
   ]
  },
  {
   "cell_type": "code",
   "execution_count": 11,
   "id": "9595e85f",
   "metadata": {},
   "outputs": [],
   "source": [
    "regressor = LinearRegression()"
   ]
  },
  {
   "cell_type": "code",
   "execution_count": 12,
   "id": "c0edb301",
   "metadata": {},
   "outputs": [
    {
     "data": {
      "text/html": [
       "<style>#sk-container-id-1 {color: black;background-color: white;}#sk-container-id-1 pre{padding: 0;}#sk-container-id-1 div.sk-toggleable {background-color: white;}#sk-container-id-1 label.sk-toggleable__label {cursor: pointer;display: block;width: 100%;margin-bottom: 0;padding: 0.3em;box-sizing: border-box;text-align: center;}#sk-container-id-1 label.sk-toggleable__label-arrow:before {content: \"▸\";float: left;margin-right: 0.25em;color: #696969;}#sk-container-id-1 label.sk-toggleable__label-arrow:hover:before {color: black;}#sk-container-id-1 div.sk-estimator:hover label.sk-toggleable__label-arrow:before {color: black;}#sk-container-id-1 div.sk-toggleable__content {max-height: 0;max-width: 0;overflow: hidden;text-align: left;background-color: #f0f8ff;}#sk-container-id-1 div.sk-toggleable__content pre {margin: 0.2em;color: black;border-radius: 0.25em;background-color: #f0f8ff;}#sk-container-id-1 input.sk-toggleable__control:checked~div.sk-toggleable__content {max-height: 200px;max-width: 100%;overflow: auto;}#sk-container-id-1 input.sk-toggleable__control:checked~label.sk-toggleable__label-arrow:before {content: \"▾\";}#sk-container-id-1 div.sk-estimator input.sk-toggleable__control:checked~label.sk-toggleable__label {background-color: #d4ebff;}#sk-container-id-1 div.sk-label input.sk-toggleable__control:checked~label.sk-toggleable__label {background-color: #d4ebff;}#sk-container-id-1 input.sk-hidden--visually {border: 0;clip: rect(1px 1px 1px 1px);clip: rect(1px, 1px, 1px, 1px);height: 1px;margin: -1px;overflow: hidden;padding: 0;position: absolute;width: 1px;}#sk-container-id-1 div.sk-estimator {font-family: monospace;background-color: #f0f8ff;border: 1px dotted black;border-radius: 0.25em;box-sizing: border-box;margin-bottom: 0.5em;}#sk-container-id-1 div.sk-estimator:hover {background-color: #d4ebff;}#sk-container-id-1 div.sk-parallel-item::after {content: \"\";width: 100%;border-bottom: 1px solid gray;flex-grow: 1;}#sk-container-id-1 div.sk-label:hover label.sk-toggleable__label {background-color: #d4ebff;}#sk-container-id-1 div.sk-serial::before {content: \"\";position: absolute;border-left: 1px solid gray;box-sizing: border-box;top: 0;bottom: 0;left: 50%;z-index: 0;}#sk-container-id-1 div.sk-serial {display: flex;flex-direction: column;align-items: center;background-color: white;padding-right: 0.2em;padding-left: 0.2em;position: relative;}#sk-container-id-1 div.sk-item {position: relative;z-index: 1;}#sk-container-id-1 div.sk-parallel {display: flex;align-items: stretch;justify-content: center;background-color: white;position: relative;}#sk-container-id-1 div.sk-item::before, #sk-container-id-1 div.sk-parallel-item::before {content: \"\";position: absolute;border-left: 1px solid gray;box-sizing: border-box;top: 0;bottom: 0;left: 50%;z-index: -1;}#sk-container-id-1 div.sk-parallel-item {display: flex;flex-direction: column;z-index: 1;position: relative;background-color: white;}#sk-container-id-1 div.sk-parallel-item:first-child::after {align-self: flex-end;width: 50%;}#sk-container-id-1 div.sk-parallel-item:last-child::after {align-self: flex-start;width: 50%;}#sk-container-id-1 div.sk-parallel-item:only-child::after {width: 0;}#sk-container-id-1 div.sk-dashed-wrapped {border: 1px dashed gray;margin: 0 0.4em 0.5em 0.4em;box-sizing: border-box;padding-bottom: 0.4em;background-color: white;}#sk-container-id-1 div.sk-label label {font-family: monospace;font-weight: bold;display: inline-block;line-height: 1.2em;}#sk-container-id-1 div.sk-label-container {text-align: center;}#sk-container-id-1 div.sk-container {/* jupyter's `normalize.less` sets `[hidden] { display: none; }` but bootstrap.min.css set `[hidden] { display: none !important; }` so we also need the `!important` here to be able to override the default hidden behavior on the sphinx rendered scikit-learn.org. See: https://github.com/scikit-learn/scikit-learn/issues/21755 */display: inline-block !important;position: relative;}#sk-container-id-1 div.sk-text-repr-fallback {display: none;}</style><div id=\"sk-container-id-1\" class=\"sk-top-container\"><div class=\"sk-text-repr-fallback\"><pre>LinearRegression()</pre><b>In a Jupyter environment, please rerun this cell to show the HTML representation or trust the notebook. <br />On GitHub, the HTML representation is unable to render, please try loading this page with nbviewer.org.</b></div><div class=\"sk-container\" hidden><div class=\"sk-item\"><div class=\"sk-estimator sk-toggleable\"><input class=\"sk-toggleable__control sk-hidden--visually\" id=\"sk-estimator-id-1\" type=\"checkbox\" checked><label for=\"sk-estimator-id-1\" class=\"sk-toggleable__label sk-toggleable__label-arrow\">LinearRegression</label><div class=\"sk-toggleable__content\"><pre>LinearRegression()</pre></div></div></div></div></div>"
      ],
      "text/plain": [
       "LinearRegression()"
      ]
     },
     "execution_count": 12,
     "metadata": {},
     "output_type": "execute_result"
    }
   ],
   "source": [
    "regressor.fit(X_train, y_train)"
   ]
  },
  {
   "cell_type": "code",
   "execution_count": 13,
   "id": "454fabe4",
   "metadata": {},
   "outputs": [],
   "source": [
    "y_pred = regressor.predict(X_test)"
   ]
  },
  {
   "cell_type": "code",
   "execution_count": 14,
   "id": "8dc2bb4e",
   "metadata": {},
   "outputs": [
    {
     "name": "stdout",
     "output_type": "stream",
     "text": [
      "Erreur quadratique moyenne : 0.10813288001112993\n",
      "Coefficient de détermination : 0.1626976849963533\n"
     ]
    }
   ],
   "source": [
    "mse = mean_squared_error(y_test, y_pred)\n",
    "r2 = r2_score(y_test, y_pred)\n",
    "print('Erreur quadratique moyenne :', mse)\n",
    "print('Coefficient de détermination :', r2)"
   ]
  },
  {
   "cell_type": "code",
   "execution_count": 15,
   "id": "7bf3d1a4",
   "metadata": {},
   "outputs": [
    {
     "data": {
      "image/png": "[encoded data removed]",
      "text/plain": [
       "<Figure size 640x480 with 1 Axes>"
      ]
     },
     "metadata": {},
     "output_type": "display_data"
    }
   ],
   "source": [
    "plt.scatter(y_test, y_pred, color='blue')\n",
    "plt.xlabel('Valeurs réelles')\n",
    "plt.ylabel('Prédictions')\n",
    "plt.title('Régression linéaire')\n",
    "plt.show()"
   ]
  },
  {
   "cell_type": "code",
   "execution_count": 16,
   "id": "97fcc632",
   "metadata": {},
   "outputs": [
    {
     "name": "stdout",
     "output_type": "stream",
     "text": [
      "    Variable Cible  Prédiction\n",
      "9         0.466179    0.403743\n",
      "25        0.000000    0.361394\n",
      "8         0.939488    0.510564\n",
      "21        0.000000    0.361394\n",
      "0         0.642589    0.316480\n",
      "12        0.757885    0.452327\n"
     ]
    }
   ],
   "source": [
    "predictions = pd.DataFrame({'Variable Cible': y_test, 'Prédiction': y_pred})\n",
    "\n",
    "# Afficher le dataframe\n",
    "print(predictions)"
   ]
  },
  {
   "cell_type": "code",
   "execution_count": 17,
   "id": "1f947c78",
   "metadata": {},
   "outputs": [],
   "source": [
    "y_pred = regressor.predict(X_test)"
   ]
  },
  {
   "cell_type": "code",
   "execution_count": 18,
   "id": "a87a6490",
   "metadata": {},
   "outputs": [
    {
     "name": "stdout",
     "output_type": "stream",
     "text": [
      "Erreur quadratique moyenne : 0.10813288001112993\n",
      "Coefficient de détermination : 0.1626976849963533\n"
     ]
    }
   ],
   "source": [
    "mse = mean_squared_error(y_test, y_pred)\n",
    "r2 = r2_score(y_test, y_pred)\n",
    "print('Erreur quadratique moyenne :', mse)\n",
    "print('Coefficient de détermination :', r2)"
   ]
  },
  {
   "cell_type": "code",
   "execution_count": null,
   "id": "41d62d65",
   "metadata": {},
   "outputs": [],
   "source": []
  }
 ],
 "metadata": {
  "kernelspec": {
   "display_name": "Python 3 (ipykernel)",
   "language": "python",
   "name": "python3"
  },
  "language_info": {
   "codemirror_mode": {
    "name": "ipython",
    "version": 3
   },
   "file_extension": ".py",
   "mimetype": "text/x-python",
   "name": "python",
   "nbconvert_exporter": "python",
   "pygments_lexer": "ipython3",
   "version": "3.10.9"
  }
 },
 "nbformat": 4,
 "nbformat_minor": 5
}
